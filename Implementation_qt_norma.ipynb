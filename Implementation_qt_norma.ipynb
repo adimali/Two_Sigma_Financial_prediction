{
 "cells": [
  {
   "cell_type": "markdown",
   "metadata": {},
   "source": [
    "# In this notebook we will Implement several models  and evaluate and validate  their performance using cross validation and held out test set"
   ]
  },
  {
   "cell_type": "code",
   "execution_count": 1,
   "metadata": {
    "collapsed": true
   },
   "outputs": [],
   "source": [
    "# import required libraries\n",
    "import pandas as pd\n",
    "import numpy as np\n",
    "import random\n",
    "import pickle\n",
    "from sklearn.metrics import r2_score\n",
    "from sklearn.model_selection import cross_val_score, GridSearchCV\n",
    "import matplotlib.pyplot as plt\n",
    "from sklearn import linear_model"
   ]
  },
  {
   "cell_type": "code",
   "execution_count": 2,
   "metadata": {
    "collapsed": true
   },
   "outputs": [],
   "source": [
    "# Import the data\n",
    "pkl_file = open('data_qt_norm.pkl', 'rb')\n",
    "data_transformed = pickle.load(pkl_file)\n",
    "pkl_file.close()"
   ]
  },
  {
   "cell_type": "code",
   "execution_count": 3,
   "metadata": {
    "collapsed": true
   },
   "outputs": [],
   "source": [
    "# unpack the dictionary in to variables\n",
    "Y_train = data_transformed['Y_train']\n",
    "X_train = data_transformed['X_train']\n",
    "Y_test = data_transformed['Y_test']\n",
    "X_test = data_transformed['X_test']"
   ]
  },
  {
   "cell_type": "code",
   "execution_count": 4,
   "metadata": {
    "collapsed": true
   },
   "outputs": [],
   "source": [
    "# define R score\n",
    "def r_score(y_true, y_pred):\n",
    "    r2 = r2_score(y_true, y_pred)\n",
    "    return (np.sign(r2)*np.sqrt(np.abs(r2)))"
   ]
  },
  {
   "cell_type": "code",
   "execution_count": 5,
   "metadata": {
    "collapsed": true
   },
   "outputs": [],
   "source": [
    "# these are the final selected features after cross validating the linear model with different combinations of features\n",
    "selected=['technical_20','technical_30','fundamental_11','technical_19','technical_24','id']"
   ]
  },
  {
   "cell_type": "markdown",
   "metadata": {},
   "source": [
    "## Multiple regression with all the features"
   ]
  },
  {
   "cell_type": "markdown",
   "metadata": {},
   "source": [
    "### Linear regression"
   ]
  },
  {
   "cell_type": "code",
   "execution_count": 6,
   "metadata": {},
   "outputs": [
    {
     "name": "stdout",
     "output_type": "stream",
     "text": [
      "Using Linear Regression with all the features and 3 fold cross validation: -0.028783\n",
      "Using Linear Regression with selected features and 3 fold cross validation: -0.019981\n"
     ]
    }
   ],
   "source": [
    "clf_lin = linear_model.LinearRegression()\n",
    "scores = cross_val_score(clf_lin, X_train, Y_train, cv=3, scoring= 'r2')\n",
    "r2=scores.mean()\n",
    "print ('Using Linear Regression with all the features and 3 fold cross validation: {:.6f}'\n",
    "           .format((np.sign(r2)*np.sqrt(np.abs(r2)))))\n",
    "scores = cross_val_score(clf_lin, X_train[selected], Y_train, cv=3, scoring= 'r2')\n",
    "r2=scores.mean()\n",
    "print ('Using Linear Regression with selected features and 3 fold cross validation: {:.6f}'\n",
    "           .format((np.sign(r2)*np.sqrt(np.abs(r2)))))"
   ]
  },
  {
   "cell_type": "code",
   "execution_count": 7,
   "metadata": {},
   "outputs": [
    {
     "name": "stdout",
     "output_type": "stream",
     "text": [
      "0.0114738809764\n"
     ]
    }
   ],
   "source": [
    "clf_lin.fit(X_train[selected], Y_train)\n",
    "print (r_score(Y_test,clf_lin.predict(X_test[selected])))"
   ]
  },
  {
   "cell_type": "markdown",
   "metadata": {},
   "source": [
    "### Ridge regression"
   ]
  },
  {
   "cell_type": "code",
   "execution_count": 8,
   "metadata": {},
   "outputs": [
    {
     "name": "stdout",
     "output_type": "stream",
     "text": [
      "Using Ridge Regression with all the features and 3 fold cross validation\n",
      "{'alpha': 0.1} -0.0287833006381\n",
      "{'alpha': 1} -0.0287832308502\n",
      "{'alpha': 100} -0.0287755723225\n",
      "{'alpha': 10000} -0.0281264915706\n",
      "Using Ridge Regression with selected features and 3 fold cross validation\n",
      "{'alpha': 0.1} -0.0199806559684\n",
      "{'alpha': 1} -0.0199806491972\n",
      "{'alpha': 100} -0.0199799044636\n",
      "{'alpha': 10000} -0.0199064570888\n"
     ]
    }
   ],
   "source": [
    "clf_ridge = linear_model.Ridge()\n",
    "parameters = {'alpha':(0.1,1,100,10000)}\n",
    "clf_ridge_grid = GridSearchCV(clf_ridge, parameters, scoring='r2')\n",
    "clf_ridge_grid.fit(X_train, Y_train);\n",
    "print ('Using Ridge Regression with all the features and 3 fold cross validation')\n",
    "for i , param in enumerate(clf_ridge_grid.cv_results_['params']):\n",
    "    r2=clf_ridge_grid.cv_results_['mean_test_score'][i]\n",
    "    print (param, (np.sign(r2)*np.sqrt(np.abs(r2))))\n",
    "print ('Using Ridge Regression with selected features and 3 fold cross validation')\n",
    "clf_ridge_grid.fit(X_train[selected], Y_train);\n",
    "for i , param in enumerate(clf_ridge_grid.cv_results_['params']):\n",
    "    r2=clf_ridge_grid.cv_results_['mean_test_score'][i]\n",
    "    print (param, (np.sign(r2)*np.sqrt(np.abs(r2))))"
   ]
  },
  {
   "cell_type": "code",
   "execution_count": 9,
   "metadata": {},
   "outputs": [
    {
     "name": "stdout",
     "output_type": "stream",
     "text": [
      "0.011437793878\n"
     ]
    }
   ],
   "source": [
    "print (r_score(Y_test,clf_ridge_grid.best_estimator_.predict(X_test[selected])))"
   ]
  },
  {
   "cell_type": "markdown",
   "metadata": {
    "collapsed": true
   },
   "source": [
    "## Random forest"
   ]
  },
  {
   "cell_type": "markdown",
   "metadata": {},
   "source": [
    "### Gridsearch cv"
   ]
  },
  {
   "cell_type": "code",
   "execution_count": 10,
   "metadata": {
    "collapsed": true
   },
   "outputs": [],
   "source": [
    "from sklearn.ensemble import RandomForestRegressor\n",
    "regr_rf = RandomForestRegressor(random_state=0,n_jobs=8)\n",
    "parameters_rf = {'max_depth':(2,4,6),'n_estimators':(10, 50, 75)}\n",
    "clf = GridSearchCV(regr_rf, parameters_rf, scoring='r2')\n",
    "clf.fit(X_train[selected], Y_train);"
   ]
  },
  {
   "cell_type": "code",
   "execution_count": 11,
   "metadata": {},
   "outputs": [
    {
     "name": "stdout",
     "output_type": "stream",
     "text": [
      "Using Random forest regression with selected features and cross validation\n",
      "{'max_depth': 2, 'n_estimators': 10} -0.0119055257444\n",
      "{'max_depth': 2, 'n_estimators': 50} -0.0136853900872\n",
      "{'max_depth': 2, 'n_estimators': 75} -0.0141293800699\n",
      "{'max_depth': 4, 'n_estimators': 10} -0.0237962976002\n",
      "{'max_depth': 4, 'n_estimators': 50} -0.021647580181\n",
      "{'max_depth': 4, 'n_estimators': 75} -0.0200374574842\n",
      "{'max_depth': 6, 'n_estimators': 10} -0.0321226638319\n",
      "{'max_depth': 6, 'n_estimators': 50} -0.0276269052577\n",
      "{'max_depth': 6, 'n_estimators': 75} -0.0259459971528\n"
     ]
    }
   ],
   "source": [
    "print ('Using Random forest regression with selected features and cross validation')\n",
    "for i , param in enumerate(clf.cv_results_['params']):\n",
    "    r2=clf.cv_results_['mean_test_score'][i]\n",
    "    print (param, (np.sign(r2)*np.sqrt(np.abs(r2))))"
   ]
  },
  {
   "cell_type": "code",
   "execution_count": 12,
   "metadata": {},
   "outputs": [
    {
     "name": "stdout",
     "output_type": "stream",
     "text": [
      "0.0190554279763\n"
     ]
    }
   ],
   "source": [
    "print (r_score(Y_test,clf.best_estimator_.predict(X_test[selected])))"
   ]
  },
  {
   "cell_type": "markdown",
   "metadata": {},
   "source": [
    "## Ada boost"
   ]
  },
  {
   "cell_type": "code",
   "execution_count": 13,
   "metadata": {},
   "outputs": [
    {
     "name": "stdout",
     "output_type": "stream",
     "text": [
      "Using Adaboost Regression with selected features and 3 fold cross validation: -0.041316\n"
     ]
    }
   ],
   "source": [
    "from sklearn.tree import DecisionTreeRegressor\n",
    "from sklearn.ensemble import AdaBoostRegressor\n",
    "\n",
    "regr_ada = AdaBoostRegressor(DecisionTreeRegressor(max_depth=2),\n",
    "                          n_estimators=10, random_state=0)\n",
    "scores = cross_val_score(regr_ada, X_train[selected], Y_train, cv=3, scoring= 'r2')\n",
    "r2=scores.mean()\n",
    "print ('Using Adaboost Regression with selected features and 3 fold cross validation: {:.6f}'\n",
    "           .format((np.sign(r2)*np.sqrt(np.abs(r2)))))"
   ]
  },
  {
   "cell_type": "code",
   "execution_count": 14,
   "metadata": {},
   "outputs": [
    {
     "name": "stdout",
     "output_type": "stream",
     "text": [
      "-0.0198996749792\n"
     ]
    }
   ],
   "source": [
    "regr_ada.fit(X_train[selected], Y_train);\n",
    "print (r_score(Y_test,regr_ada.predict(X_test[selected])))"
   ]
  },
  {
   "cell_type": "markdown",
   "metadata": {},
   "source": [
    "## Extra trees"
   ]
  },
  {
   "cell_type": "code",
   "execution_count": 15,
   "metadata": {},
   "outputs": [
    {
     "name": "stdout",
     "output_type": "stream",
     "text": [
      "Using Extra trees Regression with all selected features and 3 fold cross validation: -0.621456\n"
     ]
    }
   ],
   "source": [
    "from sklearn.ensemble import ExtraTreesRegressor\n",
    "reg_ext = ExtraTreesRegressor(n_estimators=5, criterion='mse', random_state=0)\n",
    "scores = cross_val_score(reg_ext, X_train[selected], Y_train, cv=3, scoring= 'r2')\n",
    "r2=scores.mean()\n",
    "print ('Using Extra trees Regression with all selected features and 3 fold cross validation: {:.6f}'\n",
    "           .format((np.sign(r2)*np.sqrt(np.abs(r2)))))"
   ]
  },
  {
   "cell_type": "code",
   "execution_count": 16,
   "metadata": {},
   "outputs": [
    {
     "name": "stdout",
     "output_type": "stream",
     "text": [
      "-0.495345981279\n"
     ]
    }
   ],
   "source": [
    "reg_ext.fit(X_train[selected], Y_train);\n",
    "print (r_score(Y_test,reg_ext.predict(X_test[selected])))"
   ]
  },
  {
   "cell_type": "markdown",
   "metadata": {},
   "source": [
    "## SVR"
   ]
  },
  {
   "cell_type": "code",
   "execution_count": 17,
   "metadata": {
    "collapsed": true
   },
   "outputs": [],
   "source": [
    "from sklearn.svm import SVR\n",
    "parameters_svr = {'C':(0.1,0.001),'epsilon':(0.1,10.0), 'kernel':('linear','poly','rbf','sigmoid')}\n",
    "reg_svr = SVR()\n",
    "reg_svr_gcv = GridSearchCV(reg_svr, parameters_svr, scoring='r2')\n",
    "reg_svr_gcv.fit(X_train[selected], Y_train);"
   ]
  },
  {
   "cell_type": "code",
   "execution_count": 18,
   "metadata": {},
   "outputs": [
    {
     "name": "stdout",
     "output_type": "stream",
     "text": [
      "Using SVR with selected features and cross validation\n",
      "{'C': 0.1, 'epsilon': 0.1, 'kernel': 'linear'} -0.195435484258\n",
      "{'C': 0.1, 'epsilon': 0.1, 'kernel': 'poly'} -0.195435484258\n",
      "{'C': 0.1, 'epsilon': 0.1, 'kernel': 'rbf'} -0.195435484258\n",
      "{'C': 0.1, 'epsilon': 0.1, 'kernel': 'sigmoid'} -0.195435484258\n",
      "{'C': 0.1, 'epsilon': 10.0, 'kernel': 'linear'} -0.195435484258\n",
      "{'C': 0.1, 'epsilon': 10.0, 'kernel': 'poly'} -0.195435484258\n",
      "{'C': 0.1, 'epsilon': 10.0, 'kernel': 'rbf'} -0.195435484258\n",
      "{'C': 0.1, 'epsilon': 10.0, 'kernel': 'sigmoid'} -0.195435484258\n",
      "{'C': 0.001, 'epsilon': 0.1, 'kernel': 'linear'} -0.195435484258\n",
      "{'C': 0.001, 'epsilon': 0.1, 'kernel': 'poly'} -0.195435484258\n",
      "{'C': 0.001, 'epsilon': 0.1, 'kernel': 'rbf'} -0.195435484258\n",
      "{'C': 0.001, 'epsilon': 0.1, 'kernel': 'sigmoid'} -0.195435484258\n",
      "{'C': 0.001, 'epsilon': 10.0, 'kernel': 'linear'} -0.195435484258\n",
      "{'C': 0.001, 'epsilon': 10.0, 'kernel': 'poly'} -0.195435484258\n",
      "{'C': 0.001, 'epsilon': 10.0, 'kernel': 'rbf'} -0.195435484258\n",
      "{'C': 0.001, 'epsilon': 10.0, 'kernel': 'sigmoid'} -0.195435484258\n"
     ]
    }
   ],
   "source": [
    "print ('Using SVR with selected features and cross validation')\n",
    "for i , param in enumerate(reg_svr_gcv.cv_results_['params']):\n",
    "    r2=reg_svr_gcv.cv_results_['mean_test_score'][i]\n",
    "    print (param, (np.sign(r2)*np.sqrt(np.abs(r2))))"
   ]
  },
  {
   "cell_type": "code",
   "execution_count": 19,
   "metadata": {},
   "outputs": [
    {
     "name": "stdout",
     "output_type": "stream",
     "text": [
      "-0.112883749963\n"
     ]
    }
   ],
   "source": [
    "print (r_score(Y_test,reg_svr_gcv.best_estimator_.predict(X_test[selected])))"
   ]
  },
  {
   "cell_type": "code",
   "execution_count": null,
   "metadata": {
    "collapsed": true
   },
   "outputs": [],
   "source": []
  }
 ],
 "metadata": {
  "kernelspec": {
   "display_name": "Python 3",
   "language": "python",
   "name": "python3"
  },
  "language_info": {
   "codemirror_mode": {
    "name": "ipython",
    "version": 3
   },
   "file_extension": ".py",
   "mimetype": "text/x-python",
   "name": "python",
   "nbconvert_exporter": "python",
   "pygments_lexer": "ipython3",
   "version": "3.6.1"
  }
 },
 "nbformat": 4,
 "nbformat_minor": 2
}
