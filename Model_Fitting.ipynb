{
 "cells": [
  {
   "cell_type": "code",
   "execution_count": 39,
   "metadata": {
    "collapsed": true
   },
   "outputs": [],
   "source": [
    "import numpy as np\n",
    "import pandas as pd\n",
    "import matplotlib.pyplot as plt\n",
    "from sklearn.metrics import r2_score\n",
    "from sklearn.model_selection import train_test_split, cross_val_score\n",
    "from sklearn import linear_model\n",
    "from sklearn.feature_selection import SelectKBest, f_regression, mutual_info_regression\n",
    "from sklearn.ensemble import ExtraTreesRegressor\n",
    "%matplotlib inline"
   ]
  },
  {
   "cell_type": "code",
   "execution_count": 17,
   "metadata": {
    "collapsed": true
   },
   "outputs": [],
   "source": [
    "data = pd.HDFStore(\"train.h5\", \"r\").get(\"train\")"
   ]
  },
  {
   "cell_type": "code",
   "execution_count": 18,
   "metadata": {
    "collapsed": true
   },
   "outputs": [],
   "source": [
    "#data=data[(data.timestamp>500) & (data.timestamp<1250)]"
   ]
  },
  {
   "cell_type": "code",
   "execution_count": 19,
   "metadata": {
    "collapsed": true
   },
   "outputs": [],
   "source": [
    "_mean = data.mean(axis=0)\n",
    "data.fillna(0 ,inplace=True);"
   ]
  },
  {
   "cell_type": "code",
   "execution_count": 20,
   "metadata": {
    "collapsed": true
   },
   "outputs": [],
   "source": [
    "train, test = train_test_split(data, test_size=0.25, random_state=8, shuffle= False)\n",
    "y_train = train.y\n",
    "X_train = train.drop('y', axis=1)\n",
    "y_test = test.y\n",
    "X_test = test.drop('y', axis=1)"
   ]
  },
  {
   "cell_type": "markdown",
   "metadata": {
    "collapsed": true
   },
   "source": [
    "## R score for Evaluation"
   ]
  },
  {
   "cell_type": "code",
   "execution_count": 21,
   "metadata": {
    "collapsed": true
   },
   "outputs": [],
   "source": [
    "def r_score(y_true, y_pred):\n",
    "    r2 = r2_score(y_true, y_pred)\n",
    "    return (np.sign(r2)*np.sqrt(np.abs(r2)))"
   ]
  },
  {
   "cell_type": "markdown",
   "metadata": {},
   "source": [
    "## Several benchmark models"
   ]
  },
  {
   "cell_type": "code",
   "execution_count": 22,
   "metadata": {},
   "outputs": [
    {
     "name": "stdout",
     "output_type": "stream",
     "text": [
      "Using mean y of train set:-0.012877\n",
      "Using median y of train set:-0.023757\n",
      "Using zeros:-0.017466\n",
      "Using id based mean:-0.060893\n"
     ]
    }
   ],
   "source": [
    "print ('Using mean y of train set:{:.6f}'.format(r_score(y_test,np.ones(y_test.size)*y_train.mean())))\n",
    "print ('Using median y of train set:{:.6f}'.format(r_score(y_test,np.ones(y_test.size)*y_train.median())))\n",
    "print ('Using zeros:{:.6f}'.format(r_score(y_test,np.ones(y_test.size)*0)))\n",
    "\n",
    "id_mean=train.groupby('id')['y'].mean()\n",
    "all_mean=y_train.mean()\n",
    "y_test_calc=[id_mean[i] if i in id_mean else all_mean for i in X_test.id]\n",
    "print ('Using id based mean:{:.6f}'.format(r_score(y_test,y_test_calc)))"
   ]
  },
  {
   "cell_type": "markdown",
   "metadata": {},
   "source": [
    "## Pick the first five features from each feature selection method in Initial_EDA."
   ]
  },
  {
   "cell_type": "code",
   "execution_count": 23,
   "metadata": {
    "collapsed": true
   },
   "outputs": [],
   "source": [
    "# From correlation:\n",
    "best_corr=['technical_20','technical_30','fundamental_11','technical_27','technical_19']\n",
    "\n",
    "# From SelectKBest:\n",
    "best_k=['technical_20','technical_30','fundamental_11','fundamental_51','fundamental_53']\n",
    "\n",
    "# From ExtraTrees:\n",
    "best_trees=['technical_30','technical_33','technical_20','technical_41','technical_24']"
   ]
  },
  {
   "cell_type": "code",
   "execution_count": 24,
   "metadata": {
    "collapsed": true
   },
   "outputs": [],
   "source": [
    "best_all=list(set(best_corr)|set(best_k)|set(best_trees))"
   ]
  },
  {
   "cell_type": "markdown",
   "metadata": {},
   "source": [
    "## Fit simple linear regression models for each selected feature"
   ]
  },
  {
   "cell_type": "code",
   "execution_count": 25,
   "metadata": {},
   "outputs": [
    {
     "name": "stdout",
     "output_type": "stream",
     "text": [
      "Using LinearRegression with technical_19: -0.008597\n",
      "Using LinearRegression with technical_20: 0.013732\n",
      "Using LinearRegression with fundamental_53: -0.033416\n",
      "Using LinearRegression with technical_41: -0.012891\n",
      "Using LinearRegression with fundamental_11: -0.012329\n",
      "Using LinearRegression with technical_27: -0.012948\n",
      "Using LinearRegression with technical_33: -0.012904\n",
      "Using LinearRegression with technical_24: -0.012804\n",
      "Using LinearRegression with fundamental_51: -0.012879\n",
      "Using LinearRegression with technical_30: 0.011146\n"
     ]
    }
   ],
   "source": [
    "clf_lin = linear_model.LinearRegression()\n",
    "for feature in best_all:\n",
    "    clf_lin.fit(X_train[feature].values.reshape(-1, 1), y_train)\n",
    "    y_test_pred=clf_lin.predict(X_test[feature].values.reshape(-1, 1))\n",
    "    print ('Using LinearRegression with {}: {:.6f}'.format(feature, r_score(y_test,y_test_pred)))"
   ]
  },
  {
   "cell_type": "code",
   "execution_count": 26,
   "metadata": {},
   "outputs": [
    {
     "name": "stdout",
     "output_type": "stream",
     "text": [
      "Using LinearRegression with technical_19: -0.008597\n",
      "Using LinearRegression with technical_20: 0.013111\n",
      "Using LinearRegression with fundamental_53: -0.033417\n",
      "Using LinearRegression with technical_41: -0.012891\n",
      "Using LinearRegression with fundamental_11: -0.012329\n",
      "Using LinearRegression with technical_27: -0.012947\n",
      "Using LinearRegression with technical_33: -0.012904\n",
      "Using LinearRegression with technical_24: -0.012804\n",
      "Using LinearRegression with fundamental_51: -0.012879\n",
      "Using LinearRegression with technical_30: 0.010324\n"
     ]
    }
   ],
   "source": [
    "clf_ridge = linear_model.Ridge(alpha=1)\n",
    "for feature in best_all:\n",
    "    clf_ridge.fit(X_train[feature].values.reshape(-1, 1), y_train)\n",
    "    y_test_pred=clf_ridge.predict(X_test[feature].values.reshape(-1, 1))\n",
    "    print ('Using LinearRegression with {}: {:.6f}'.format(feature, r_score(y_test,y_test_pred)))"
   ]
  },
  {
   "cell_type": "code",
   "execution_count": 27,
   "metadata": {},
   "outputs": [
    {
     "name": "stdout",
     "output_type": "stream",
     "text": [
      "Using LinearRegression with all selected features: -0.021116\n"
     ]
    }
   ],
   "source": [
    "clf_lin.fit(X_train[best_all], y_train)\n",
    "y_test_pred=clf_lin.predict(X_test[best_all])\n",
    "print ('Using LinearRegression with all selected features: {:.6f}'.format(r_score(y_test,y_test_pred)))"
   ]
  },
  {
   "cell_type": "code",
   "execution_count": 28,
   "metadata": {},
   "outputs": [
    {
     "name": "stdout",
     "output_type": "stream",
     "text": [
      "Using RidgeRegression with all selected features: -0.021318\n"
     ]
    }
   ],
   "source": [
    "clf_ridge.fit(X_train[best_all], y_train)\n",
    "y_test_pred=clf_ridge.predict(X_test[best_all])\n",
    "print ('Using RidgeRegression with all selected features: {:.6f}'.format(r_score(y_test,y_test_pred)))"
   ]
  },
  {
   "cell_type": "code",
   "execution_count": 37,
   "metadata": {},
   "outputs": [
    {
     "name": "stdout",
     "output_type": "stream",
     "text": [
      "Using LinearRegression with selected2 features: 0.020526\n"
     ]
    }
   ],
   "source": [
    "selected2=['technical_20','technical_30','fundamental_11','technical_19','technical_24','id']\n",
    "clf_lin.fit(X_train[selected2], y_train)\n",
    "y_test_pred=clf_lin.predict(X_test[selected2])\n",
    "print ('Using LinearRegression with selected2 features: {:.6f}'.format(r_score(y_test,y_test_pred)))"
   ]
  },
  {
   "cell_type": "code",
   "execution_count": 38,
   "metadata": {},
   "outputs": [
    {
     "name": "stdout",
     "output_type": "stream",
     "text": [
      "Using RidgeRegression with selected2 features: 0.020049\n"
     ]
    }
   ],
   "source": [
    "clf_ridge.fit(X_train[selected2], )\n",
    "y_test_pred=clf_ridge.predict(X_test[selected2])\n",
    "print ('Using RidgeRegression with selected2 features: {:.6f}'.format(r_score(y_test,y_test_pred)))"
   ]
  },
  {
   "cell_type": "markdown",
   "metadata": {
    "collapsed": true
   },
   "source": [
    "## Using Cross Validation"
   ]
  },
  {
   "cell_type": "code",
   "execution_count": 55,
   "metadata": {},
   "outputs": [
    {
     "name": "stdout",
     "output_type": "stream",
     "text": [
      "0.0181975164021\n"
     ]
    }
   ],
   "source": [
    "scores = cross_val_score(clf_lin, data[selected2], data.y, cv=3, scoring= 'r2')\n",
    "r2=scores.mean()\n",
    "print ((np.sign(r2)*np.sqrt(np.abs(r2))))"
   ]
  },
  {
   "cell_type": "code",
   "execution_count": 56,
   "metadata": {},
   "outputs": [
    {
     "name": "stdout",
     "output_type": "stream",
     "text": [
      "0.0182539054622\n"
     ]
    }
   ],
   "source": [
    "scores = cross_val_score(clf_ridge, data[selected2], data.y, cv=3, scoring= 'r2')\n",
    "r2=scores.mean()\n",
    "print ((np.sign(r2)*np.sqrt(np.abs(r2))))"
   ]
  },
  {
   "cell_type": "code",
   "execution_count": null,
   "metadata": {
    "collapsed": true
   },
   "outputs": [],
   "source": []
  }
 ],
 "metadata": {
  "kernelspec": {
   "display_name": "Python 3",
   "language": "python",
   "name": "python3"
  },
  "language_info": {
   "codemirror_mode": {
    "name": "ipython",
    "version": 3
   },
   "file_extension": ".py",
   "mimetype": "text/x-python",
   "name": "python",
   "nbconvert_exporter": "python",
   "pygments_lexer": "ipython3",
   "version": "3.6.1"
  }
 },
 "nbformat": 4,
 "nbformat_minor": 2
}
