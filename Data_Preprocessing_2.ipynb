{
 "cells": [
  {
   "cell_type": "markdown",
   "metadata": {},
   "source": [
    "### This notebook preprocess the data separately in two different ways\n",
    "- Apply nonlinear transformation using RobustScaler\n",
    "- Apply nonlinear transformation using QuantileTransformer: normal distribution"
   ]
  },
  {
   "cell_type": "code",
   "execution_count": 8,
   "metadata": {
    "collapsed": true
   },
   "outputs": [],
   "source": [
    "# import relevant libraries\n",
    "import numpy as np\n",
    "import pandas as pd\n",
    "import pickle\n",
    "from sklearn.model_selection import train_test_split\n",
    "from sklearn.preprocessing import Imputer\n",
    "from sklearn.preprocessing import QuantileTransformer, RobustScaler\n",
    "import matplotlib.pyplot as plt\n",
    "pd.set_option('display.max_columns', None)\n",
    "%matplotlib inline"
   ]
  },
  {
   "cell_type": "code",
   "execution_count": 2,
   "metadata": {
    "collapsed": true
   },
   "outputs": [],
   "source": [
    "# import data\n",
    "data = pd.HDFStore(\"train.h5\", \"r\").get(\"train\")"
   ]
  },
  {
   "cell_type": "code",
   "execution_count": 3,
   "metadata": {
    "collapsed": true
   },
   "outputs": [],
   "source": [
    "# split data into test and train\n",
    "train, test = train_test_split(data, test_size=0.25, random_state=0, shuffle= False)\n",
    "Y_train = train.y\n",
    "X_train = train.drop(['y'], axis=1)\n",
    "Y_test = test.y\n",
    "X_test = test.drop(['y'], axis=1)"
   ]
  },
  {
   "cell_type": "code",
   "execution_count": 4,
   "metadata": {
    "collapsed": true
   },
   "outputs": [],
   "source": [
    "# replace missing data (NaN) with median values\n",
    "imp = Imputer(missing_values='NaN', strategy='median', axis=0)\n",
    "clm_names=X_train.columns\n",
    "X_train=pd.DataFrame(imp.fit_transform(X_train), columns=clm_names)\n",
    "X_test=pd.DataFrame(imp.transform(X_test), columns=clm_names)"
   ]
  },
  {
   "cell_type": "code",
   "execution_count": 5,
   "metadata": {
    "collapsed": true
   },
   "outputs": [],
   "source": [
    "# Transform the training and testing features using nonlinear QuantileTransformer\n",
    "qt = QuantileTransformer(n_quantiles=1000, random_state=0, output_distribution='normal')\n",
    "X_train_qt_norm = pd.DataFrame(qt.fit_transform(X_train), columns=clm_names)\n",
    "X_test_qt_norm=pd.DataFrame(qt.transform(X_test), columns=clm_names)"
   ]
  },
  {
   "cell_type": "code",
   "execution_count": 6,
   "metadata": {
    "collapsed": true
   },
   "outputs": [],
   "source": [
    "# Transform the training and testing features using RobustScaler\n",
    "rb = RobustScaler(quantile_range=(0, 100))\n",
    "X_train_rbst = pd.DataFrame(rb.fit_transform(X_train), columns=clm_names)\n",
    "X_test_rbst=pd.DataFrame(rb.transform(X_test), columns=clm_names)"
   ]
  },
  {
   "cell_type": "code",
   "execution_count": 11,
   "metadata": {},
   "outputs": [
    {
     "data": {
      "image/png": "[encoded data removed]",
      "text/plain": [
       "<matplotlib.figure.Figure at 0x7f54e2b59400>"
      ]
     },
     "metadata": {},
     "output_type": "display_data"
    },
    {
     "data": {
      "image/png": "[encoded data removed]",
      "text/plain": [
       "<matplotlib.figure.Figure at 0x7f54e2272588>"
      ]
     },
     "metadata": {},
     "output_type": "display_data"
    }
   ],
   "source": [
    "# Plot before and after distributions\n",
    "clm='fundamental_61'\n",
    "X_train[clm].plot.hist(bins=50,title= (\"Initial Distribution of {}\".format(clm)));\n",
    "plt.figure()\n",
    "X_train_qt_norm[clm].plot.hist(bins=50,title= (\"New Distribution of {}\".format(clm)));"
   ]
  },
  {
   "cell_type": "code",
   "execution_count": 8,
   "metadata": {
    "collapsed": true
   },
   "outputs": [],
   "source": [
    "# Save data after transformation\n",
    "data_quantile_norm={'X_train':X_train_qt_norm,'X_test':X_test_qt_norm, 'Y_train':Y_train, 'Y_test': Y_test}\n",
    "output1 = open('data_qt_norm.pkl', 'wb')\n",
    "pickle.dump(data_quantile_norm, output1)\n",
    "output1.close()"
   ]
  },
  {
   "cell_type": "code",
   "execution_count": 10,
   "metadata": {
    "collapsed": true
   },
   "outputs": [],
   "source": [
    "# Save data after transformation\n",
    "data_rbst={'X_train':X_train_rbst,'X_test':X_test_rbst, 'Y_train':Y_train, 'Y_test': Y_test}\n",
    "output2 = open('data_rbst.pkl', 'wb')\n",
    "pickle.dump(data_rbst, output2)\n",
    "output2.close()"
   ]
  }
 ],
 "metadata": {
  "kernelspec": {
   "display_name": "Python 3",
   "language": "python",
   "name": "python3"
  },
  "language_info": {
   "codemirror_mode": {
    "name": "ipython",
    "version": 3
   },
   "file_extension": ".py",
   "mimetype": "text/x-python",
   "name": "python",
   "nbconvert_exporter": "python",
   "pygments_lexer": "ipython3",
   "version": "3.6.1"
  }
 },
 "nbformat": 4,
 "nbformat_minor": 2
}
