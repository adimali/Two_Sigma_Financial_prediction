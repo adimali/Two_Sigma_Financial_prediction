{
 "cells": [
  {
   "cell_type": "code",
   "execution_count": 1,
   "metadata": {
    "collapsed": true
   },
   "outputs": [],
   "source": [
    "import numpy as np\n",
    "import pandas as pd\n",
    "import pickle\n",
    "from sklearn.model_selection import train_test_split\n",
    "from sklearn.preprocessing import Imputer\n",
    "from sklearn.preprocessing import QuantileTransformer\n",
    "pd.set_option('display.max_columns', None)\n",
    "%matplotlib inline"
   ]
  },
  {
   "cell_type": "code",
   "execution_count": 2,
   "metadata": {
    "collapsed": true
   },
   "outputs": [],
   "source": [
    "data = pd.HDFStore(\"train.h5\", \"r\").get(\"train\")"
   ]
  },
  {
   "cell_type": "code",
   "execution_count": 3,
   "metadata": {
    "collapsed": true
   },
   "outputs": [],
   "source": [
    "train, test = train_test_split(data, test_size=0.25, random_state=0, shuffle= False)\n",
    "Y_train = train.y\n",
    "X_train = train.drop(['y'], axis=1)\n",
    "Y_test = test.y\n",
    "X_test = test.drop(['y'], axis=1)"
   ]
  },
  {
   "cell_type": "code",
   "execution_count": 4,
   "metadata": {
    "collapsed": true
   },
   "outputs": [],
   "source": [
    "imp = Imputer(missing_values='NaN', strategy='median', axis=0)\n",
    "clm_names=X_train.columns\n",
    "X_train=pd.DataFrame(imp.fit_transform(X_train), columns=clm_names)\n",
    "X_test=pd.DataFrame(imp.transform(X_test), columns=clm_names)"
   ]
  },
  {
   "cell_type": "code",
   "execution_count": 5,
   "metadata": {
    "collapsed": true
   },
   "outputs": [],
   "source": [
    "data_clips={'derived_0':8,'derived_1':3.5,'derived_2':10,'derived_3':10,'derived_4':10, 'fundamental_0':1, 'fundamental_1':1.5,\n",
    "           'fundamental_2':20, 'fundamental_3':1.5, 'fundamental_5':1.5, 'fundamental_6':2,'fundamental_7':2.5,\n",
    "            'fundamental_8':2, 'fundamental_9':2, 'fundamental_10':6, 'fundamental_11':4, 'fundamental_12':100,\n",
    "           'fundamental_13':2, 'fundamental_14':2, 'fundamental_15':4, 'fundamental_16':4, 'fundamental_17':10, \n",
    "            'fundamental_18':10, 'fundamental_19':6, 'fundamental_20':4, 'fundamental_21':2, 'fundamental_22':1.5,\n",
    "            'fundamental_23':4,'fundamental_24':2, 'fundamental_25':3, 'fundamental_26':2, 'fundamental_27':4,\n",
    "           'fundamental_28':1.5, 'fundamental_29':4, 'fundamental_30':4, 'fundamental_31':3, 'fundamental_32':20,\n",
    "            'fundamental_33':6, 'fundamental_34':150, 'fundamental_35':10, 'fundamental_36':6, 'fundamental_37':4,\n",
    "           'fundamental_38':4, 'fundamental_39':3, 'fundamental_40':10, 'fundamental_41':12, 'fundamental_42':40,\n",
    "           'fundamental_43':6, 'fundamental_44':6, 'fundamental_45':6, 'fundamental_46':3, 'fundamental_47':2,\n",
    "           'fundamental_48':7, 'fundamental_49':3, 'fundamental_50':12, 'fundamental_51':35, 'fundamental_52':4,\n",
    "           'fundamental_53':3, 'fundamental_54':2.5, 'fundamental_55':5, 'fundamental_56':6, 'fundamental_57':6,\n",
    "           'fundamental_58':2.5, 'fundamental_59':2, 'fundamental_60':5, 'fundamental_61':12, 'fundamental_62':2,\n",
    "           'fundamental_63':2, 'technical_0':2, 'technical_1':0.2, 'technical_2':3, 'technical_3':0.3, 'technical_5':0.2,\n",
    "           'technical_6':3, 'technical_7':1.3, 'technical_9':1, 'technical_10':3, 'technical_11':3, 'technical_12':2,\n",
    "           'technical_13':0.003, 'technical_14':3, 'technical_16':1, 'technical_17':3, 'technical_18':1,\n",
    "           'technical_19':4, 'technical_20':0.012, 'technical_21':7, 'technical_22':0.6, 'technical_24':0.4,\n",
    "           'technical_25':0.15, 'technical_27':5, 'technical_28':0.1, 'technical_29':3, 'technical_30':0.012,\n",
    "           'technical_31':0.15, 'technical_32':1, 'technical_33':1, 'technical_34':0.6, 'technical_35':4,\n",
    "           'technical_36':4, 'technical_37':1, 'technical_38':1, 'technical_39':1, 'technical_40':2,\n",
    "           'technical_41':0.5, 'technical_42':1, 'technical_43':3, 'technical_44':0.1}"
   ]
  },
  {
   "cell_type": "code",
   "execution_count": 6,
   "metadata": {
    "collapsed": true
   },
   "outputs": [],
   "source": [
    "selected_train = X_train.id>-10000\n",
    "selected_test = X_test.id>-10000\n",
    "for feature in data_clips:\n",
    "    selected_train = selected_train & (((X_train[feature]<data_clips[feature]) & (X_train[feature]>-data_clips[feature])) | \n",
    "                           (X_train[feature].isnull()))"
   ]
  },
  {
   "cell_type": "code",
   "execution_count": 7,
   "metadata": {
    "collapsed": true
   },
   "outputs": [],
   "source": [
    "X_train_reduced=X_train[selected_train].copy()\n",
    "Y_train_reduced=Y_train[selected_train].copy()"
   ]
  },
  {
   "cell_type": "code",
   "execution_count": 8,
   "metadata": {
    "collapsed": true
   },
   "outputs": [],
   "source": [
    "data_reduced={'X_train':X_train_reduced,'X_test':X_test, 'Y_train':Y_train_reduced, 'Y_test': Y_test}\n",
    "output1 = open('data_reduced.pkl', 'wb')\n",
    "pickle.dump(data_reduced, output1)\n",
    "output1.close()"
   ]
  },
  {
   "cell_type": "code",
   "execution_count": 9,
   "metadata": {
    "collapsed": true
   },
   "outputs": [],
   "source": [
    "qt = QuantileTransformer(n_quantiles=10, random_state=0)\n",
    "X_train_transformed = pd.DataFrame(qt.fit_transform(X_train), columns=clm_names)\n",
    "X_test_transformed=pd.DataFrame(qt.transform(X_test), columns=clm_names)"
   ]
  },
  {
   "cell_type": "code",
   "execution_count": 10,
   "metadata": {
    "collapsed": true
   },
   "outputs": [],
   "source": [
    "data_transformed={'X_train':X_train_transformed,'X_test':X_test_transformed, 'Y_train':Y_train, 'Y_test': Y_test}\n",
    "output2 = open('data_transformed.pkl', 'wb')\n",
    "pickle.dump(data_transformed, output2)\n",
    "output2.close()"
   ]
  }
 ],
 "metadata": {
  "kernelspec": {
   "display_name": "Python 3",
   "language": "python",
   "name": "python3"
  },
  "language_info": {
   "codemirror_mode": {
    "name": "ipython",
    "version": 3
   },
   "file_extension": ".py",
   "mimetype": "text/x-python",
   "name": "python",
   "nbconvert_exporter": "python",
   "pygments_lexer": "ipython3",
   "version": "3.6.1"
  }
 },
 "nbformat": 4,
 "nbformat_minor": 2
}
